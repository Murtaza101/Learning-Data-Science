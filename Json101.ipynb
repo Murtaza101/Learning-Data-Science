{
 "cells": [
  {
   "cell_type": "code",
   "execution_count": 1,
   "metadata": {},
   "outputs": [],
   "source": [
    "import json"
   ]
  },
  {
   "cell_type": "markdown",
   "metadata": {},
   "source": [
    "Converting from json to python dict"
   ]
  },
  {
   "cell_type": "code",
   "execution_count": 10,
   "metadata": {},
   "outputs": [
    {
     "name": "stdout",
     "output_type": "stream",
     "text": [
      "1. Murtaza Kamal\n"
     ]
    }
   ],
   "source": [
    "user_json = '{\"user_id\": \"1\", \"name\": \"Murtaza Kamal\"}'\n",
    "user_data = json.loads(user_json)\n",
    "print(user_data[\"user_id\"]+'.',user_data[\"name\"])"
   ]
  },
  {
   "cell_type": "markdown",
   "metadata": {},
   "source": [
    "Vice versa"
   ]
  },
  {
   "cell_type": "code",
   "execution_count": 11,
   "metadata": {},
   "outputs": [
    {
     "name": "stdout",
     "output_type": "stream",
     "text": [
      "{\n",
      "    \"user_id\": \"1\",\n",
      "    \"name\": \"Murtaza Kamal\",\n",
      "    \"likes\": [\n",
      "        \"Python\",\n",
      "        \"Data Mining\"\n",
      "    ]\n",
      "}\n"
     ]
    }
   ],
   "source": [
    "user_data[\"likes\"] = ['Python','Data Mining']\n",
    "user_json = json.dumps(user_data, indent=4)\n",
    "print(user_json)"
   ]
  },
  {
   "cell_type": "code",
   "execution_count": null,
   "metadata": {},
   "outputs": [],
   "source": []
  }
 ],
 "metadata": {
  "kernelspec": {
   "display_name": "Python 3",
   "language": "python",
   "name": "python3"
  },
  "language_info": {
   "codemirror_mode": {
    "name": "ipython",
    "version": 3
   },
   "file_extension": ".py",
   "mimetype": "text/x-python",
   "name": "python",
   "nbconvert_exporter": "python",
   "pygments_lexer": "ipython3",
   "version": "3.7.1"
  }
 },
 "nbformat": 4,
 "nbformat_minor": 2
}
